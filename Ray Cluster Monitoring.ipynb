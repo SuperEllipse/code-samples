{
 "cells": [
  {
   "cell_type": "code",
   "execution_count": 6,
   "id": "a1ca9fe4-9bc7-4c19-83ed-8b21e26d148e",
   "metadata": {
    "tags": []
   },
   "outputs": [
    {
     "name": "stdout",
     "output_type": "stream",
     "text": [
      "Collecting torchinfo\n",
      "  Downloading torchinfo-1.8.0-py3-none-any.whl.metadata (21 kB)\n",
      "Downloading torchinfo-1.8.0-py3-none-any.whl (23 kB)\n",
      "Installing collected packages: torchinfo\n",
      "Successfully installed torchinfo-1.8.0\n"
     ]
    }
   ],
   "source": [
    "!pip install torchinfo"
   ]
  },
  {
   "cell_type": "code",
   "execution_count": 2,
   "id": "02c3522f-170f-4924-b680-cb237e74241e",
   "metadata": {
    "tags": []
   },
   "outputs": [
    {
     "name": "stderr",
     "output_type": "stream",
     "text": [
      "/home/cdsw/.local/lib/python3.10/site-packages/tqdm/auto.py:21: TqdmWarning: IProgress not found. Please update jupyter and ipywidgets. See https://ipywidgets.readthedocs.io/en/stable/user_install.html\n",
      "  from .autonotebook import tqdm as notebook_tqdm\n",
      "2025-04-04 07:59:53,829\tINFO util.py:154 -- Missing packages: ['ipywidgets']. Run `pip install -U ipywidgets`, then restart the notebook server for rich notebook output.\n",
      "2025-04-04 07:59:58,174\tINFO util.py:154 -- Missing packages: ['ipywidgets']. Run `pip install -U ipywidgets`, then restart the notebook server for rich notebook output.\n",
      "2025-04-04 07:59:59,095\tINFO util.py:154 -- Missing packages: ['ipywidgets']. Run `pip install -U ipywidgets`, then restart the notebook server for rich notebook output.\n"
     ]
    }
   ],
   "source": [
    "import os\n",
    "from typing import Dict\n",
    "\n",
    "import torch\n",
    "from filelock import FileLock\n",
    "from torch import nn\n",
    "from torch.utils.data import DataLoader\n",
    "from torchvision import datasets, transforms\n",
    "from torchvision.transforms import Normalize, ToTensor\n",
    "from tqdm import tqdm\n",
    "\n",
    "import ray.train\n",
    "from ray.train import ScalingConfig\n",
    "from ray.train.torch import TorchTrainer"
   ]
  },
  {
   "cell_type": "code",
   "execution_count": 3,
   "id": "06627adc-a42c-4ec7-90da-a9a8e2a0dee5",
   "metadata": {
    "tags": []
   },
   "outputs": [],
   "source": [
    "class NeuralNetwork(nn.Module):\n",
    "    def __init__(self):\n",
    "        super(NeuralNetwork, self).__init__()\n",
    "        self.flatten = nn.Flatten()\n",
    "        self.linear_relu_stack = nn.Sequential(\n",
    "            nn.Linear(28 * 28, 512),\n",
    "            nn.ReLU(),\n",
    "            nn.Dropout(0.25),\n",
    "            nn.Linear(512, 512),\n",
    "            nn.ReLU(),\n",
    "            nn.Dropout(0.25),\n",
    "            nn.Linear(512, 10),\n",
    "            nn.ReLU(),\n",
    "        )\n",
    "\n",
    "    def forward(self, x):\n",
    "        x = self.flatten(x)\n",
    "        logits = self.linear_relu_stack(x)\n",
    "        return logits"
   ]
  },
  {
   "cell_type": "code",
   "execution_count": 8,
   "id": "cae50187-7062-4ceb-bbaf-fc387bd52ea3",
   "metadata": {
    "tags": []
   },
   "outputs": [
    {
     "data": {
      "text/plain": [
       "==========================================================================================\n",
       "Layer (type:depth-idx)                   Output Shape              Param #\n",
       "==========================================================================================\n",
       "NeuralNetwork                            [1, 10]                   --\n",
       "├─Flatten: 1-1                           [1, 784]                  --\n",
       "├─Sequential: 1-2                        [1, 10]                   --\n",
       "│    └─Linear: 2-1                       [1, 512]                  401,920\n",
       "│    └─ReLU: 2-2                         [1, 512]                  --\n",
       "│    └─Dropout: 2-3                      [1, 512]                  --\n",
       "│    └─Linear: 2-4                       [1, 512]                  262,656\n",
       "│    └─ReLU: 2-5                         [1, 512]                  --\n",
       "│    └─Dropout: 2-6                      [1, 512]                  --\n",
       "│    └─Linear: 2-7                       [1, 10]                   5,130\n",
       "│    └─ReLU: 2-8                         [1, 10]                   --\n",
       "==========================================================================================\n",
       "Total params: 669,706\n",
       "Trainable params: 669,706\n",
       "Non-trainable params: 0\n",
       "Total mult-adds (M): 0.67\n",
       "==========================================================================================\n",
       "Input size (MB): 0.00\n",
       "Forward/backward pass size (MB): 0.01\n",
       "Params size (MB): 2.68\n",
       "Estimated Total Size (MB): 2.69\n",
       "=========================================================================================="
      ]
     },
     "execution_count": 8,
     "metadata": {},
     "output_type": "execute_result"
    }
   ],
   "source": [
    "from torchinfo import summary\n",
    "model = NeuralNetwork()\n",
    "input_size = (1, 28, 28)  # Example input size for a single image\n",
    "summary(model, input_size=input_size)"
   ]
  },
  {
   "cell_type": "markdown",
   "id": "8b334d8a-2b18-4e9c-8bd9-8c817fdab6d1",
   "metadata": {},
   "source": [
    "## Connecting to an existing Ray Cluster"
   ]
  },
  {
   "cell_type": "code",
   "execution_count": 16,
   "id": "706380f4-d11f-48ac-8987-27f7ee904abd",
   "metadata": {
    "tags": []
   },
   "outputs": [
    {
     "name": "stderr",
     "output_type": "stream",
     "text": [
      "2025-04-07 12:47:51,283\tINFO client_builder.py:244 -- Passing the following kwargs to ray.init() on the server: log_to_driver\n"
     ]
    },
    {
     "name": "stdout",
     "output_type": "stream",
     "text": [
      "✅ Connected to an existing Ray cluster at ray://10.254.5.113:10001\n",
      "📊 Ray Dashboard: https://734nix0zkpcgc133.goes-ocp-cml.apps.field-team-ocp-01.kcloud.cloudera.com/\n"
     ]
    }
   ],
   "source": [
    "import ray\n",
    "import json\n",
    "import os\n",
    "\n",
    "if os.path.exists(\"ray_address.json\"):\n",
    "    with open(\"ray_address.json\", \"r\") as f:\n",
    "        connection_info = json.load(f)\n",
    "        ray_address = connection_info[\"ray_address\"]\n",
    "        dashboard_url = connection_info[\"dashboard_url\"]\n",
    "\n",
    "        ray.init(address=ray_address, allow_multiple=True)\n",
    "        print(f\"✅ Connected to an existing Ray cluster at {ray_address}\")\n",
    "        print(f\"📊 Ray Dashboard: {dashboard_url}\")\n",
    "else:\n",
    "    print(\"❌ Ray cluster not initialized. Please start it first.\")"
   ]
  },
  {
   "cell_type": "markdown",
   "id": "14732ca0-678e-49f7-afff-7a0790c4a88a",
   "metadata": {},
   "source": [
    "## Launching Tensor Board"
   ]
  },
  {
   "cell_type": "code",
   "execution_count": 14,
   "id": "eef8afd6-697a-441e-ba12-b94d30446ef6",
   "metadata": {
    "tags": []
   },
   "outputs": [
    {
     "name": "stdout",
     "output_type": "stream",
     "text": [
      "✅ TensorBoard launched in background on port 8080\n",
      "Access it at: https://public-ehtmlmkedggjmarl.goes-ocp-cml.apps.field-team-ocp-01.kcloud.cloudera.com\n"
     ]
    },
    {
     "name": "stderr",
     "output_type": "stream",
     "text": [
      "Log channel is reconnecting. Logs produced while the connection was down can be found on the head node of the cluster in `ray_client_server_[port].out`\n",
      "2025-04-07 12:28:13,649\tWARNING dataclient.py:403 -- Encountered connection issues in the data channel. Attempting to reconnect.\n",
      "2025-04-07 12:28:43,859\tWARNING dataclient.py:410 -- Failed to reconnect the data channel\n"
     ]
    }
   ],
   "source": [
    "# Launch Tensor Board in the background\n",
    "\n",
    "import subprocess\n",
    "import os\n",
    "\n",
    "# Define logdir and port\n",
    "logdir = \"./ray_results/tb_logs\"\n",
    "port = os.environ.get(\"CDSW_PUBLIC_PORT\")\n",
    "\n",
    "# Launch TensorBoard in the background\n",
    "tensorboard_proc = subprocess.Popen(\n",
    "    [\"tensorboard\", f\"--logdir={logdir}\", f\"--port={port}\"],\n",
    "    stdout=subprocess.PIPE,\n",
    "    stderr=subprocess.PIPE\n",
    ")\n",
    "\n",
    "engine_id = os.environ.get(\"CDSW_ENGINE_ID\", \"<engine_id_not_found>\")\n",
    "domain = os.environ.get(\"CDSW_DOMAIN\", \"<domain_not_found>\")\n",
    "\n",
    "url = f\"https://public-{engine_id}.{domain}\"\n",
    "\n",
    "\n",
    "print(f\"✅ TensorBoard launched in background on port {port}\")\n",
    "print(f\"Access it at: {url}\")\n",
    "\n",
    "\n"
   ]
  },
  {
   "cell_type": "code",
   "execution_count": 12,
   "id": "d035830b-0e97-4284-be92-f1ee07b17c35",
   "metadata": {},
   "outputs": [
    {
     "name": "stdout",
     "output_type": "stream",
     "text": [
      "https://public-ehtmlmkedggjmarl.goes-ocp-cml.apps.field-team-ocp-01.kcloud.cloudera.com\n"
     ]
    }
   ],
   "source": [
    "import os\n",
    "\n",
    "\n",
    "\n",
    "\n",
    "\n",
    "print(url)"
   ]
  },
  {
   "cell_type": "code",
   "execution_count": null,
   "id": "013b2a1b-1d44-4115-8a55-b3902b305c9a",
   "metadata": {},
   "outputs": [],
   "source": []
  }
 ],
 "metadata": {
  "kernelspec": {
   "display_name": "Python 3 (ipykernel)",
   "language": "python",
   "name": "python3"
  },
  "language_info": {
   "codemirror_mode": {
    "name": "ipython",
    "version": 3
   },
   "file_extension": ".py",
   "mimetype": "text/x-python",
   "name": "python",
   "nbconvert_exporter": "python",
   "pygments_lexer": "ipython3",
   "version": "3.10.13"
  }
 },
 "nbformat": 4,
 "nbformat_minor": 5
}
